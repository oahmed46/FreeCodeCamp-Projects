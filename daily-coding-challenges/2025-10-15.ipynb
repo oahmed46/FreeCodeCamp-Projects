{
 "cells": [
  {
   "cell_type": "markdown",
   "id": "d38dde07",
   "metadata": {},
   "source": [
    "https://www.freecodecamp.org/learn/daily-coding-challenge/2025-10-15"
   ]
  },
  {
   "cell_type": "markdown",
   "id": "37288555",
   "metadata": {},
   "source": [
    "HTML Tag Stripper\n",
    "Given a string of HTML code, remove the tags and return the plain text content.\n",
    "\n",
    "The input string will contain only valid HTML.\n",
    "HTML tags may be nested.\n",
    "Remove the tags and any attributes."
   ]
  },
  {
   "cell_type": "code",
   "execution_count": 1,
   "id": "5ea08419",
   "metadata": {},
   "outputs": [],
   "source": [
    "def strip_tags(html):\n",
    "    in_tag = False\n",
    "    result = \"\"\n",
    "    for character in html:\n",
    "        if \"<\" in character:\n",
    "            in_tag = True\n",
    "            continue\n",
    "        if \">\" in character:\n",
    "            in_tag = False\n",
    "            continue\n",
    "        if not in_tag:\n",
    "            result += character\n",
    "    return result"
   ]
  },
  {
   "cell_type": "code",
   "execution_count": 2,
   "id": "df433851",
   "metadata": {},
   "outputs": [
    {
     "data": {
      "text/plain": [
       "'Click here'"
      ]
     },
     "execution_count": 2,
     "metadata": {},
     "output_type": "execute_result"
    }
   ],
   "source": [
    "strip_tags('<a href=\"#\">Click here</a>') # \"Click here\""
   ]
  },
  {
   "cell_type": "code",
   "execution_count": 3,
   "id": "350417ad",
   "metadata": {},
   "outputs": [
    {
     "data": {
      "text/plain": [
       "'Hello World!'"
      ]
     },
     "execution_count": 3,
     "metadata": {},
     "output_type": "execute_result"
    }
   ],
   "source": [
    "strip_tags('<p class=\"center\">Hello <b>World</b>!</p>') # \"Hello World!\""
   ]
  },
  {
   "cell_type": "code",
   "execution_count": 4,
   "id": "d4e85faf",
   "metadata": {},
   "outputs": [
    {
     "data": {
      "text/plain": [
       "''"
      ]
     },
     "execution_count": 4,
     "metadata": {},
     "output_type": "execute_result"
    }
   ],
   "source": [
    "strip_tags('<img src=\"cat.jpg\" alt=\"Cat\">') # an empty string (\"\")"
   ]
  },
  {
   "cell_type": "code",
   "execution_count": 5,
   "id": "4ce8c85f",
   "metadata": {},
   "outputs": [
    {
     "data": {
      "text/plain": [
       "'sectionsection'"
      ]
     },
     "execution_count": 5,
     "metadata": {},
     "output_type": "execute_result"
    }
   ],
   "source": [
    "strip_tags('<main id=\"main\"><section class=\"section\">section</section><section class=\"section\">section</section></main>') # sectionsection"
   ]
  }
 ],
 "metadata": {
  "kernelspec": {
   "display_name": "base",
   "language": "python",
   "name": "python3"
  },
  "language_info": {
   "codemirror_mode": {
    "name": "ipython",
    "version": 3
   },
   "file_extension": ".py",
   "mimetype": "text/x-python",
   "name": "python",
   "nbconvert_exporter": "python",
   "pygments_lexer": "ipython3",
   "version": "3.13.5"
  }
 },
 "nbformat": 4,
 "nbformat_minor": 5
}
