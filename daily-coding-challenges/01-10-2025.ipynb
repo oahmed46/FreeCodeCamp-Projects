{
 "cells": [
  {
   "cell_type": "markdown",
   "id": "34c7ee2f",
   "metadata": {},
   "source": [
    "Binary to Decimal\n",
    "Given a string representing a binary number, return its decimal equivalent as a number.\n",
    "\n",
    "A binary number uses only the digits 0 and 1 to represent any number. To convert binary to decimal, multiply each digit by a power of 2 and add them together. Start by multiplying the rightmost digit by 2^0, the next digit to the left by 2^1, and so on. Once all digits have been multiplied by a power of 2, add the result together.\n",
    "\n",
    "For example, the binary number 101 equals 5 in decimal because:\n",
    "\n",
    "1 * 2^2 + 0 * 2^1 + 1 * 2^0 = 4 + 0 + 1 = 5"
   ]
  },
  {
   "cell_type": "code",
   "execution_count": 8,
   "id": "cac3ddfa",
   "metadata": {},
   "outputs": [],
   "source": [
    "def to_decimal(binary):\n",
    "    sum = 0\n",
    "    binary = binary[::-1]\n",
    "    for i in range(len(binary)):\n",
    "        sum += int(binary[i]) * (2**i)\n",
    "    return sum"
   ]
  },
  {
   "cell_type": "code",
   "execution_count": 9,
   "id": "6c224bb8",
   "metadata": {},
   "outputs": [
    {
     "data": {
      "text/plain": [
       "5"
      ]
     },
     "execution_count": 9,
     "metadata": {},
     "output_type": "execute_result"
    }
   ],
   "source": [
    "to_decimal(\"101\") # 5"
   ]
  },
  {
   "cell_type": "code",
   "execution_count": 10,
   "id": "5729ab08",
   "metadata": {},
   "outputs": [
    {
     "data": {
      "text/plain": [
       "10"
      ]
     },
     "execution_count": 10,
     "metadata": {},
     "output_type": "execute_result"
    }
   ],
   "source": [
    "to_decimal(\"1010\") # 10"
   ]
  },
  {
   "cell_type": "code",
   "execution_count": 11,
   "id": "94597b70",
   "metadata": {},
   "outputs": [
    {
     "data": {
      "text/plain": [
       "18"
      ]
     },
     "execution_count": 11,
     "metadata": {},
     "output_type": "execute_result"
    }
   ],
   "source": [
    "to_decimal(\"10010\") # 18"
   ]
  },
  {
   "cell_type": "code",
   "execution_count": 12,
   "id": "5ae44fa3",
   "metadata": {},
   "outputs": [
    {
     "data": {
      "text/plain": [
       "85"
      ]
     },
     "execution_count": 12,
     "metadata": {},
     "output_type": "execute_result"
    }
   ],
   "source": [
    "to_decimal(\"1010101\") # 85"
   ]
  }
 ],
 "metadata": {
  "kernelspec": {
   "display_name": "base",
   "language": "python",
   "name": "python3"
  },
  "language_info": {
   "codemirror_mode": {
    "name": "ipython",
    "version": 3
   },
   "file_extension": ".py",
   "mimetype": "text/x-python",
   "name": "python",
   "nbconvert_exporter": "python",
   "pygments_lexer": "ipython3",
   "version": "3.13.5"
  }
 },
 "nbformat": 4,
 "nbformat_minor": 5
}
