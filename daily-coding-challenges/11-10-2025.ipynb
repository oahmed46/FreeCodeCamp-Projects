{
 "cells": [
  {
   "cell_type": "markdown",
   "id": "7737f675",
   "metadata": {},
   "source": [
    "https://www.freecodecamp.org/learn/daily-coding-challenge/2025-10-11"
   ]
  },
  {
   "cell_type": "markdown",
   "id": "2fa62c1c",
   "metadata": {},
   "source": [
    "Hex to Decimal\n",
    "Given a string representing a hexadecimal number (base 16), return its decimal (base 10) value as an integer.\n",
    "\n",
    "Hexadecimal is a number system that uses 16 digits:\n",
    "\n",
    "0-9 represent values 0 through 9.\n",
    "A-F represent values 10 through 15.\n",
    "Here's a partial conversion table:\n",
    "\n",
    "Hexadecimal\tDecimal\n",
    "0\t0\n",
    "1\t1\n",
    "...\t...\n",
    "9\t9\n",
    "A\t10\n",
    "...\t...\n",
    "F\t15\n",
    "10\t16\n",
    "...\t...\n",
    "9F\t159\n",
    "A0\t160\n",
    "...\t...\n",
    "FF\t255\n",
    "100\t256\n",
    "The string will only contain characters 0–9 and A–F."
   ]
  },
  {
   "cell_type": "code",
   "execution_count": 10,
   "id": "4a9cb4f2",
   "metadata": {},
   "outputs": [],
   "source": [
    "# initial attempt\n",
    "# def hex_to_decimal(hex):\n",
    "#     digits = \"0123456789ABCDEF\"\n",
    "\n",
    "#     hex = hex[::-1]\n",
    "\n",
    "#     total = 0\n",
    "#     for i in range(len(hex)):\n",
    "#         if hex[i] in digits:\n",
    "#             total += digits.index(hex[i])*(16**i)\n",
    "\n",
    "#     return total"
   ]
  },
  {
   "cell_type": "code",
   "execution_count": 11,
   "id": "eef52064",
   "metadata": {},
   "outputs": [],
   "source": [
    "# another attempt without using index() for faster runtime\n",
    "# def hex_to_decimal(hex):\n",
    "\n",
    "#     hex = hex[::-1]\n",
    "#     total = 0\n",
    "\n",
    "#     for i in range(len(hex)):\n",
    "#         if hex[i] in \"0123456789\":\n",
    "#             value = int(hex[i])\n",
    "#         if hex[i] in \"ABCDEF\":\n",
    "#             value = 10 + ord(hex[i]) - ord(\"A\")\n",
    "#         total += value*(16**i)\n",
    "\n",
    "#     return total"
   ]
  },
  {
   "cell_type": "code",
   "execution_count": 12,
   "id": "09ebb952",
   "metadata": {},
   "outputs": [],
   "source": [
    "# using enumerate and reversed methods for cleaner code\n",
    "def hex_to_decimal(hex):\n",
    "\n",
    "    hex = hex.upper()\n",
    "    total = 0\n",
    "\n",
    "    for i,ch in enumerate(reversed(hex)):\n",
    "        if \"0\" <= ch <= \"9\":\n",
    "            value = int(ch)\n",
    "        if \"A\" <= ch <= \"F\":\n",
    "            value = 10 + ord(ch) - ord(\"A\")\n",
    "        total += value * (16 ** i)\n",
    "\n",
    "    return total"
   ]
  },
  {
   "cell_type": "code",
   "execution_count": 13,
   "id": "f6c34896",
   "metadata": {},
   "outputs": [
    {
     "data": {
      "text/plain": [
       "10"
      ]
     },
     "execution_count": 13,
     "metadata": {},
     "output_type": "execute_result"
    }
   ],
   "source": [
    "hex_to_decimal(\"A\") # 10"
   ]
  },
  {
   "cell_type": "code",
   "execution_count": 14,
   "id": "65e617fd",
   "metadata": {},
   "outputs": [
    {
     "data": {
      "text/plain": [
       "21"
      ]
     },
     "execution_count": 14,
     "metadata": {},
     "output_type": "execute_result"
    }
   ],
   "source": [
    "hex_to_decimal(\"15\") # 21"
   ]
  },
  {
   "cell_type": "code",
   "execution_count": 15,
   "id": "08037d65",
   "metadata": {},
   "outputs": [
    {
     "data": {
      "text/plain": [
       "46"
      ]
     },
     "execution_count": 15,
     "metadata": {},
     "output_type": "execute_result"
    }
   ],
   "source": [
    "hex_to_decimal(\"2E\") # 46"
   ]
  },
  {
   "cell_type": "code",
   "execution_count": 16,
   "id": "0e4ae771",
   "metadata": {},
   "outputs": [
    {
     "data": {
      "text/plain": [
       "255"
      ]
     },
     "execution_count": 16,
     "metadata": {},
     "output_type": "execute_result"
    }
   ],
   "source": [
    "hex_to_decimal(\"FF\") # 255"
   ]
  },
  {
   "cell_type": "code",
   "execution_count": 17,
   "id": "5ac3b9c8",
   "metadata": {},
   "outputs": [
    {
     "data": {
      "text/plain": [
       "2623"
      ]
     },
     "execution_count": 17,
     "metadata": {},
     "output_type": "execute_result"
    }
   ],
   "source": [
    "hex_to_decimal(\"A3F\") # 2623"
   ]
  }
 ],
 "metadata": {
  "kernelspec": {
   "display_name": "base",
   "language": "python",
   "name": "python3"
  },
  "language_info": {
   "codemirror_mode": {
    "name": "ipython",
    "version": 3
   },
   "file_extension": ".py",
   "mimetype": "text/x-python",
   "name": "python",
   "nbconvert_exporter": "python",
   "pygments_lexer": "ipython3",
   "version": "3.13.5"
  }
 },
 "nbformat": 4,
 "nbformat_minor": 5
}
