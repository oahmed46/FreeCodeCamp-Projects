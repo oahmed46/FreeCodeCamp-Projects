{
 "cells": [
  {
   "cell_type": "markdown",
   "id": "c32d1714",
   "metadata": {},
   "source": [
    "Space Week Day 6: Moon Phase\n",
    "For day six of Space Week, you will be given a date in the format \"YYYY-MM-DD\" and need to determine the phase of the moon for that day using the following rules:\n",
    "\n",
    "Use a simplified lunar cycle of 28 days, divided into four equal phases:\n",
    "\n",
    "\"New\": days 1 - 7\n",
    "\"Waxing\": days 8 - 14\n",
    "\"Full\": days 15 - 21\n",
    "\"Waning\": days 22 - 28\n",
    "After day 28, the cycle repeats with day 1, a new moon.\n",
    "\n",
    "Use \"2000-01-06\" as a reference new moon (day 1 of the cycle) to determine the phase of the given day.\n",
    "You will not be given any dates before the reference date.\n",
    "Return the correct phase as a string."
   ]
  },
  {
   "cell_type": "code",
   "execution_count": null,
   "id": "1f2770a6",
   "metadata": {},
   "outputs": [],
   "source": [
    "# initial attempt\n",
    "# simplify calculations for date difference\n",
    "\n",
    "# from datetime import date\n",
    "\n",
    "# def moon_phase(date_string):\n",
    "\n",
    "#     reference = date(2000,1,6)\n",
    "#     target = date(int(date_string[0:4]),int(date_string[5:7]),int(date_string[8:]))\n",
    "\n",
    "#     date_diff = (target - reference).days\n",
    "#     # add 1 to include day 1 in calculation\n",
    "#     cycle = (date_diff % 28) + 1\n",
    "\n",
    "#     if 1 <= cycle <= 7:\n",
    "#         return \"New\"\n",
    "#     if 8 <= cycle <= 14:\n",
    "#         return \"Waxing\"\n",
    "#     if 15 <= cycle <= 21:\n",
    "#         return \"Full\"\n",
    "#     if 22 <= cycle <= 28:\n",
    "#         return \"Waning\"\n",
    "\n",
    "#     return date_string\n"
   ]
  },
  {
   "cell_type": "code",
   "execution_count": null,
   "id": "a40be633",
   "metadata": {},
   "outputs": [],
   "source": [
    "#improved solution\n",
    "\n",
    "from datetime import datetime, date\n",
    "\n",
    "def moon_phase(date_string):\n",
    "    \"\"\"\n",
    "    Returns the simplified moon phase (\"New\", \"Waxing\", \"Full\", \"Waning\")\n",
    "    for a given date string in 'YYYY-MM-DD' format, based on a 28-day lunar cycle\n",
    "    with 2000-01-06 as the reference new moon.\n",
    "    \"\"\"\n",
    "    \n",
    "    reference = date(2000, 1, 6)\n",
    "    target = datetime.strptime(date_string, \"%Y-%m-%d\").date()\n",
    "    cycle_day = ((target - reference).days % 28) + 1\n",
    "\n",
    "    phases = [\"New\", \"Waxing\", \"Full\", \"Waning\"]\n",
    "    return phases[(cycle_day - 1) // 7]\n"
   ]
  },
  {
   "cell_type": "code",
   "execution_count": 2,
   "id": "3c7b9e5c",
   "metadata": {},
   "outputs": [
    {
     "data": {
      "text/plain": [
       "'New'"
      ]
     },
     "execution_count": 2,
     "metadata": {},
     "output_type": "execute_result"
    }
   ],
   "source": [
    "moon_phase(\"2000-01-12\") # \"New\""
   ]
  },
  {
   "cell_type": "code",
   "execution_count": 3,
   "id": "a4d9ebdc",
   "metadata": {},
   "outputs": [
    {
     "data": {
      "text/plain": [
       "'Waxing'"
      ]
     },
     "execution_count": 3,
     "metadata": {},
     "output_type": "execute_result"
    }
   ],
   "source": [
    "moon_phase(\"2000-01-13\") # \"Waxing\""
   ]
  },
  {
   "cell_type": "code",
   "execution_count": 4,
   "id": "66c7d8bb",
   "metadata": {},
   "outputs": [
    {
     "data": {
      "text/plain": [
       "'Full'"
      ]
     },
     "execution_count": 4,
     "metadata": {},
     "output_type": "execute_result"
    }
   ],
   "source": [
    "moon_phase(\"2014-10-15\") # \"Full\""
   ]
  },
  {
   "cell_type": "code",
   "execution_count": 5,
   "id": "06e8eff3",
   "metadata": {},
   "outputs": [
    {
     "data": {
      "text/plain": [
       "'Waning'"
      ]
     },
     "execution_count": 5,
     "metadata": {},
     "output_type": "execute_result"
    }
   ],
   "source": [
    "moon_phase(\"2012-10-21\") # \"Waning\""
   ]
  },
  {
   "cell_type": "code",
   "execution_count": 6,
   "id": "151ac032",
   "metadata": {},
   "outputs": [
    {
     "data": {
      "text/plain": [
       "'New'"
      ]
     },
     "execution_count": 6,
     "metadata": {},
     "output_type": "execute_result"
    }
   ],
   "source": [
    "moon_phase(\"2022-12-14\") # \"New\""
   ]
  }
 ],
 "metadata": {
  "kernelspec": {
   "display_name": "base",
   "language": "python",
   "name": "python3"
  },
  "language_info": {
   "codemirror_mode": {
    "name": "ipython",
    "version": 3
   },
   "file_extension": ".py",
   "mimetype": "text/x-python",
   "name": "python",
   "nbconvert_exporter": "python",
   "pygments_lexer": "ipython3",
   "version": "3.13.5"
  }
 },
 "nbformat": 4,
 "nbformat_minor": 5
}
