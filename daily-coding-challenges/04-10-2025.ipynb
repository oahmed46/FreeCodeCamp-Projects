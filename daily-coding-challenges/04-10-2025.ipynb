{
 "cells": [
  {
   "cell_type": "markdown",
   "id": "7c52fd6a",
   "metadata": {},
   "source": [
    "https://www.freecodecamp.org/learn/daily-coding-challenge/2025-10-04"
   ]
  },
  {
   "cell_type": "markdown",
   "id": "18c2b31f",
   "metadata": {},
   "source": [
    "Space Week Day 1: Stellar Classification\n",
    "October 4th marks the beginning of World Space Week. The next seven days will bring you astronomy-themed coding challenges.\n",
    "\n",
    "For today's challenge, you are given the surface temperature of a star in Kelvin (K) and need to determine its stellar classification based on the following ranges:\n",
    "\n",
    "\"O\": 30,000 K or higher\n",
    "\n",
    "\"B\": 10,000 K - 29,999 K\n",
    "\n",
    "\"A\": 7,500 K - 9,999 K\n",
    "\n",
    "\"F\": 6,000 K - 7,499 K\n",
    "\n",
    "\"G\": 5,200 K - 5,999 K\n",
    "\n",
    "\"K\": 3,700 K - 5,199 K\n",
    "\n",
    "\"M\": 0 K - 3,699 K\n",
    "\n",
    "Return the classification of the given star.Space Week Day 1: Stellar Classification\n",
    "October 4th marks the beginning of World Space Week. The next seven days will bring you astronomy-themed coding challenges.\n",
    "\n",
    "For today's challenge, you are given the surface temperature of a star in Kelvin (K) and need to determine its stellar classification based on the following ranges:\n",
    "\n",
    "\"O\": 30,000 K or higher\n",
    "\n",
    "\"B\": 10,000 K - 29,999 K\n",
    "\n",
    "\"A\": 7,500 K - 9,999 K\n",
    "\n",
    "\"F\": 6,000 K - 7,499 K\n",
    "\n",
    "\"G\": 5,200 K - 5,999 K\n",
    "\n",
    "\"K\": 3,700 K - 5,199 K\n",
    "\n",
    "\"M\": 0 K - 3,699 K\n",
    "\n",
    "Return the classification of the given star."
   ]
  },
  {
   "cell_type": "code",
   "execution_count": 21,
   "id": "d4ca439e",
   "metadata": {},
   "outputs": [],
   "source": [
    "def classification(temp):\n",
    "    temp_convert = [\n",
    "        (30000,float(\"inf\"),\"O\"),\n",
    "        (10000,29999,\"B\"),\n",
    "        (7500,9999,\"A\"),\n",
    "        (6000,7499,\"F\"),\n",
    "        (5200,5999,\"G\"),\n",
    "        (3700,5199,\"K\"),\n",
    "        (0,3699,\"M\"),\n",
    "    ]\n",
    "\n",
    "    for lower,upper,key in temp_convert:\n",
    "        if lower <= temp <= upper:\n",
    "            print(key)\n",
    "            return key"
   ]
  },
  {
   "cell_type": "code",
   "execution_count": 22,
   "id": "9c9f458a",
   "metadata": {},
   "outputs": [
    {
     "name": "stdout",
     "output_type": "stream",
     "text": [
      "G\n"
     ]
    },
    {
     "data": {
      "text/plain": [
       "'G'"
      ]
     },
     "execution_count": 22,
     "metadata": {},
     "output_type": "execute_result"
    }
   ],
   "source": [
    "classification(5778) # \"G\""
   ]
  },
  {
   "cell_type": "code",
   "execution_count": 23,
   "id": "0fdce6a5",
   "metadata": {},
   "outputs": [
    {
     "name": "stdout",
     "output_type": "stream",
     "text": [
      "M\n"
     ]
    },
    {
     "data": {
      "text/plain": [
       "'M'"
      ]
     },
     "execution_count": 23,
     "metadata": {},
     "output_type": "execute_result"
    }
   ],
   "source": [
    "classification(2400) # \"M\""
   ]
  },
  {
   "cell_type": "code",
   "execution_count": 24,
   "id": "509b667a",
   "metadata": {},
   "outputs": [
    {
     "name": "stdout",
     "output_type": "stream",
     "text": [
      "A\n"
     ]
    },
    {
     "data": {
      "text/plain": [
       "'A'"
      ]
     },
     "execution_count": 24,
     "metadata": {},
     "output_type": "execute_result"
    }
   ],
   "source": [
    "classification(9999) # \"A\""
   ]
  },
  {
   "cell_type": "code",
   "execution_count": 25,
   "id": "d9c3c634",
   "metadata": {},
   "outputs": [
    {
     "name": "stdout",
     "output_type": "stream",
     "text": [
      "K\n"
     ]
    },
    {
     "data": {
      "text/plain": [
       "'K'"
      ]
     },
     "execution_count": 25,
     "metadata": {},
     "output_type": "execute_result"
    }
   ],
   "source": [
    "classification(3700) # \"K\""
   ]
  },
  {
   "cell_type": "code",
   "execution_count": 26,
   "id": "bfbfc628",
   "metadata": {},
   "outputs": [
    {
     "name": "stdout",
     "output_type": "stream",
     "text": [
      "M\n"
     ]
    },
    {
     "data": {
      "text/plain": [
       "'M'"
      ]
     },
     "execution_count": 26,
     "metadata": {},
     "output_type": "execute_result"
    }
   ],
   "source": [
    "classification(3699) # \"M\""
   ]
  },
  {
   "cell_type": "code",
   "execution_count": 27,
   "id": "62262298",
   "metadata": {},
   "outputs": [
    {
     "name": "stdout",
     "output_type": "stream",
     "text": [
      "O\n"
     ]
    },
    {
     "data": {
      "text/plain": [
       "'O'"
      ]
     },
     "execution_count": 27,
     "metadata": {},
     "output_type": "execute_result"
    }
   ],
   "source": [
    "classification(210000) # \"O\""
   ]
  },
  {
   "cell_type": "code",
   "execution_count": 28,
   "id": "5ba39f57",
   "metadata": {},
   "outputs": [
    {
     "name": "stdout",
     "output_type": "stream",
     "text": [
      "F\n"
     ]
    },
    {
     "data": {
      "text/plain": [
       "'F'"
      ]
     },
     "execution_count": 28,
     "metadata": {},
     "output_type": "execute_result"
    }
   ],
   "source": [
    "classification(6000) # \"F\""
   ]
  },
  {
   "cell_type": "code",
   "execution_count": 29,
   "id": "1bb9e5c4",
   "metadata": {},
   "outputs": [
    {
     "name": "stdout",
     "output_type": "stream",
     "text": [
      "B\n"
     ]
    },
    {
     "data": {
      "text/plain": [
       "'B'"
      ]
     },
     "execution_count": 29,
     "metadata": {},
     "output_type": "execute_result"
    }
   ],
   "source": [
    "classification(11432) # \"B\""
   ]
  }
 ],
 "metadata": {
  "kernelspec": {
   "display_name": "base",
   "language": "python",
   "name": "python3"
  },
  "language_info": {
   "codemirror_mode": {
    "name": "ipython",
    "version": 3
   },
   "file_extension": ".py",
   "mimetype": "text/x-python",
   "name": "python",
   "nbconvert_exporter": "python",
   "pygments_lexer": "ipython3",
   "version": "3.13.5"
  }
 },
 "nbformat": 4,
 "nbformat_minor": 5
}
