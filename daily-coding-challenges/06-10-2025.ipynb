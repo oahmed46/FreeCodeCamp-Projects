{
 "cells": [
  {
   "cell_type": "markdown",
   "id": "f5a28031",
   "metadata": {},
   "source": [
    "Space Week Day 3: Phone Home\n",
    "For day three of Space Week, you are given an array of numbers representing distances (in kilometers) between yourself, satellites, and your home planet in a communication route. Determine how long it will take a message sent through the route to reach its destination planet using the following constraints:\n",
    "\n",
    "The first value in the array is the distance from your location to the first satellite.\n",
    "Each subsequent value, except for the last, is the distance to the next satellite.\n",
    "The last value in the array is the distance from the previous satellite to your home planet.\n",
    "The message travels at 300,000 km/s.\n",
    "Each satellite the message passes through adds a 0.5 second transmission delay.\n",
    "Return a number rounded to 4 decimal places, with trailing zeros removed."
   ]
  },
  {
   "cell_type": "code",
   "execution_count": 11,
   "id": "52ec79ce",
   "metadata": {},
   "outputs": [],
   "source": [
    "def send_message(route):\n",
    "    time = sum(route)/300000\n",
    "    delay = 0.5*len(route[:-1])\n",
    "    # initial attempt did not remove trailing zeros but still passed\n",
    "    # return (round(time+delay,4))\n",
    "    # updated to remove trailing zeros, and trailing decimal if needed\n",
    "    return float(f\"{time+delay:.4f}\".rstrip('0').rstrip('.'))"
   ]
  },
  {
   "cell_type": "code",
   "execution_count": 12,
   "id": "2f443638",
   "metadata": {},
   "outputs": [
    {
     "data": {
      "text/plain": [
       "2.5"
      ]
     },
     "execution_count": 12,
     "metadata": {},
     "output_type": "execute_result"
    }
   ],
   "source": [
    "send_message([300000, 300000]) # 2.5"
   ]
  },
  {
   "cell_type": "code",
   "execution_count": 13,
   "id": "6bfb3d74",
   "metadata": {},
   "outputs": [
    {
     "data": {
      "text/plain": [
       "3.0627"
      ]
     },
     "execution_count": 13,
     "metadata": {},
     "output_type": "execute_result"
    }
   ],
   "source": [
    "send_message([384400, 384400]) # 3.0627"
   ]
  },
  {
   "cell_type": "code",
   "execution_count": 14,
   "id": "cc67cd97",
   "metadata": {},
   "outputs": [
    {
     "data": {
      "text/plain": [
       "364.5"
      ]
     },
     "execution_count": 14,
     "metadata": {},
     "output_type": "execute_result"
    }
   ],
   "source": [
    "send_message([54600000, 54600000]) # 364.5"
   ]
  },
  {
   "cell_type": "code",
   "execution_count": 15,
   "id": "8ecc31b3",
   "metadata": {},
   "outputs": [
    {
     "data": {
      "text/plain": [
       "1674.3333"
      ]
     },
     "execution_count": 15,
     "metadata": {},
     "output_type": "execute_result"
    }
   ],
   "source": [
    "send_message([1000000, 500000000, 1000000]) # 1674.3333"
   ]
  },
  {
   "cell_type": "code",
   "execution_count": 16,
   "id": "0cab5bfc",
   "metadata": {},
   "outputs": [
    {
     "data": {
      "text/plain": [
       "2.4086"
      ]
     },
     "execution_count": 16,
     "metadata": {},
     "output_type": "execute_result"
    }
   ],
   "source": [
    "send_message([10000, 21339, 50000, 31243, 10000]) # 2.4086"
   ]
  },
  {
   "cell_type": "code",
   "execution_count": 17,
   "id": "c8a2e9df",
   "metadata": {},
   "outputs": [
    {
     "data": {
      "text/plain": [
       "21.1597"
      ]
     },
     "execution_count": 17,
     "metadata": {},
     "output_type": "execute_result"
    }
   ],
   "source": [
    "send_message([802101, 725994, 112808, 3625770, 481239]) # 21.1597"
   ]
  }
 ],
 "metadata": {
  "kernelspec": {
   "display_name": "base",
   "language": "python",
   "name": "python3"
  },
  "language_info": {
   "codemirror_mode": {
    "name": "ipython",
    "version": 3
   },
   "file_extension": ".py",
   "mimetype": "text/x-python",
   "name": "python",
   "nbconvert_exporter": "python",
   "pygments_lexer": "ipython3",
   "version": "3.13.5"
  }
 },
 "nbformat": 4,
 "nbformat_minor": 5
}
