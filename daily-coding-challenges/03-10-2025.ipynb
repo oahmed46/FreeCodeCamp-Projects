{
 "cells": [
  {
   "cell_type": "markdown",
   "id": "a38156b4",
   "metadata": {},
   "source": [
    "https://www.freecodecamp.org/learn/daily-coding-challenge/2025-10-03"
   ]
  },
  {
   "cell_type": "markdown",
   "id": "c79c7b6e",
   "metadata": {},
   "source": [
    "P@ssw0rd Str3ngth!\n",
    "Given a password string, return \"weak\", \"medium\", or \"strong\" based on the strength of the password.\n",
    "\n",
    "A password is evaluated according to the following rules:\n",
    "\n",
    "It is at least 8 characters long.\n",
    "It contains both uppercase and lowercase letters.\n",
    "It contains at least one number.\n",
    "It contains at least one special character from this set: !, @, #, $, %, ^, &, or *.\n",
    "Return \"weak\" if the password meets fewer than two of the rules. Return \"medium\" if the password meets 2 or 3 of the rules. Return \"strong\" if the password meets all 4 rules."
   ]
  },
  {
   "cell_type": "code",
   "execution_count": 13,
   "id": "dd6210ae",
   "metadata": {},
   "outputs": [],
   "source": [
    "#initial attempt\n",
    "def check_strength(password):\n",
    "    rules = 0\n",
    "    rules += 1 if len(password) >= 8 else 0\n",
    "    if any(char.isupper() for char in password):\n",
    "        if any(char.islower() for char in password):\n",
    "            rules += 1\n",
    "    rules += 1 if any(char.isdigit() for char in password) else 0\n",
    "    rules += 1 if any(char in \"!@#$%^&*\" for char in password) else 0\n",
    "\n",
    "    if rules < 2:\n",
    "        return \"weak\"\n",
    "    elif rules <= 3:\n",
    "        return \"medium\"\n",
    "    elif rules == 4:\n",
    "        return \"strong\""
   ]
  },
  {
   "cell_type": "code",
   "execution_count": 14,
   "id": "8c07b918",
   "metadata": {},
   "outputs": [
    {
     "data": {
      "text/plain": [
       "'weak'"
      ]
     },
     "execution_count": 14,
     "metadata": {},
     "output_type": "execute_result"
    }
   ],
   "source": [
    "check_strength(\"123456\") # \"weak\""
   ]
  },
  {
   "cell_type": "code",
   "execution_count": 15,
   "id": "d42a4b07",
   "metadata": {},
   "outputs": [
    {
     "data": {
      "text/plain": [
       "'weak'"
      ]
     },
     "execution_count": 15,
     "metadata": {},
     "output_type": "execute_result"
    }
   ],
   "source": [
    "check_strength(\"pass!!!\") # \"weak\""
   ]
  },
  {
   "cell_type": "code",
   "execution_count": 16,
   "id": "0f469153",
   "metadata": {},
   "outputs": [
    {
     "data": {
      "text/plain": [
       "'weak'"
      ]
     },
     "execution_count": 16,
     "metadata": {},
     "output_type": "execute_result"
    }
   ],
   "source": [
    "check_strength(\"Qwerty\") # \"weak\""
   ]
  },
  {
   "cell_type": "code",
   "execution_count": 17,
   "id": "5607b4b8",
   "metadata": {},
   "outputs": [
    {
     "data": {
      "text/plain": [
       "'weak'"
      ]
     },
     "execution_count": 17,
     "metadata": {},
     "output_type": "execute_result"
    }
   ],
   "source": [
    "check_strength(\"PASSWORD\") # \"weak\""
   ]
  },
  {
   "cell_type": "code",
   "execution_count": 18,
   "id": "356d143a",
   "metadata": {},
   "outputs": [
    {
     "data": {
      "text/plain": [
       "'medium'"
      ]
     },
     "execution_count": 18,
     "metadata": {},
     "output_type": "execute_result"
    }
   ],
   "source": [
    "check_strength(\"PASSWORD!\") # \"medium\""
   ]
  },
  {
   "cell_type": "code",
   "execution_count": 19,
   "id": "4ddc41e0",
   "metadata": {},
   "outputs": [
    {
     "data": {
      "text/plain": [
       "'medium'"
      ]
     },
     "execution_count": 19,
     "metadata": {},
     "output_type": "execute_result"
    }
   ],
   "source": [
    "check_strength(\"PassWord%^!\") # \"medium\""
   ]
  },
  {
   "cell_type": "code",
   "execution_count": 20,
   "id": "0be09f86",
   "metadata": {},
   "outputs": [
    {
     "data": {
      "text/plain": [
       "'medium'"
      ]
     },
     "execution_count": 20,
     "metadata": {},
     "output_type": "execute_result"
    }
   ],
   "source": [
    "check_strength(\"qwerty12345\") # \"medium\""
   ]
  },
  {
   "cell_type": "code",
   "execution_count": 21,
   "id": "46f8bc78",
   "metadata": {},
   "outputs": [
    {
     "data": {
      "text/plain": [
       "'medium'"
      ]
     },
     "execution_count": 21,
     "metadata": {},
     "output_type": "execute_result"
    }
   ],
   "source": [
    "check_strength(\"PASSWORD!\") # \"medium\""
   ]
  },
  {
   "cell_type": "code",
   "execution_count": 22,
   "id": "773c0d03",
   "metadata": {},
   "outputs": [
    {
     "data": {
      "text/plain": [
       "'medium'"
      ]
     },
     "execution_count": 22,
     "metadata": {},
     "output_type": "execute_result"
    }
   ],
   "source": [
    "check_strength(\"PASSWORD!\") # \"medium\""
   ]
  },
  {
   "cell_type": "code",
   "execution_count": 23,
   "id": "7169dc23",
   "metadata": {},
   "outputs": [
    {
     "data": {
      "text/plain": [
       "'strong'"
      ]
     },
     "execution_count": 23,
     "metadata": {},
     "output_type": "execute_result"
    }
   ],
   "source": [
    "check_strength(\"S3cur3P@ssw0rd\") # \"strong\""
   ]
  },
  {
   "cell_type": "code",
   "execution_count": 24,
   "id": "79847d46",
   "metadata": {},
   "outputs": [
    {
     "data": {
      "text/plain": [
       "'strong'"
      ]
     },
     "execution_count": 24,
     "metadata": {},
     "output_type": "execute_result"
    }
   ],
   "source": [
    "check_strength(\"C0d3&Fun!\") # \"strong\""
   ]
  }
 ],
 "metadata": {
  "kernelspec": {
   "display_name": "base",
   "language": "python",
   "name": "python3"
  },
  "language_info": {
   "codemirror_mode": {
    "name": "ipython",
    "version": 3
   },
   "file_extension": ".py",
   "mimetype": "text/x-python",
   "name": "python",
   "nbconvert_exporter": "python",
   "pygments_lexer": "ipython3",
   "version": "3.13.5"
  }
 },
 "nbformat": 4,
 "nbformat_minor": 5
}
