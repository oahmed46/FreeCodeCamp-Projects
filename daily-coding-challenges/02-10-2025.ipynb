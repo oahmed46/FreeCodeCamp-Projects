{
 "cells": [
  {
   "cell_type": "markdown",
   "id": "b1878087",
   "metadata": {},
   "source": [
    "Decimal to Binary\n",
    "Given a non-negative integer, return its binary representation as a string.\n",
    "\n",
    "A binary number uses only the digits 0 and 1 to represent any number. To convert a decimal number to binary, repeatedly divide the number by 2 and record the remainder. Repeat until the number is zero. Read the remainders last recorded to first. For example, to convert 12 to binary:\n",
    "\n",
    "12 ÷ 2 = 6 remainder 0\n",
    "6 ÷ 2 = 3 remainder 0\n",
    "3 ÷ 2 = 1 remainder 1\n",
    "1 ÷ 2 = 0 remainder 1\n",
    "12 in binary is 1100."
   ]
  },
  {
   "cell_type": "code",
   "execution_count": 6,
   "id": "13058eff",
   "metadata": {},
   "outputs": [],
   "source": [
    "def to_binary(decimal):\n",
    "    if decimal == 0:\n",
    "        return \"\"\n",
    "    else:\n",
    "        return to_binary(decimal//2) + str(decimal%2)"
   ]
  },
  {
   "cell_type": "code",
   "execution_count": 7,
   "id": "6adc22e3",
   "metadata": {},
   "outputs": [
    {
     "data": {
      "text/plain": [
       "'101'"
      ]
     },
     "execution_count": 7,
     "metadata": {},
     "output_type": "execute_result"
    }
   ],
   "source": [
    "to_binary(5) # \"101\""
   ]
  },
  {
   "cell_type": "code",
   "execution_count": 8,
   "id": "56c393ce",
   "metadata": {},
   "outputs": [
    {
     "data": {
      "text/plain": [
       "'1100'"
      ]
     },
     "execution_count": 8,
     "metadata": {},
     "output_type": "execute_result"
    }
   ],
   "source": [
    "to_binary(12) # \"1100\""
   ]
  },
  {
   "cell_type": "code",
   "execution_count": 9,
   "id": "e3bb5306",
   "metadata": {},
   "outputs": [
    {
     "data": {
      "text/plain": [
       "'110010'"
      ]
     },
     "execution_count": 9,
     "metadata": {},
     "output_type": "execute_result"
    }
   ],
   "source": [
    "to_binary(50) # \"110010\""
   ]
  },
  {
   "cell_type": "code",
   "execution_count": 10,
   "id": "8a3aff22",
   "metadata": {},
   "outputs": [
    {
     "data": {
      "text/plain": [
       "'1100011'"
      ]
     },
     "execution_count": 10,
     "metadata": {},
     "output_type": "execute_result"
    }
   ],
   "source": [
    "to_binary(99) # \"1100011\""
   ]
  }
 ],
 "metadata": {
  "kernelspec": {
   "display_name": "base",
   "language": "python",
   "name": "python3"
  },
  "language_info": {
   "codemirror_mode": {
    "name": "ipython",
    "version": 3
   },
   "file_extension": ".py",
   "mimetype": "text/x-python",
   "name": "python",
   "nbconvert_exporter": "python",
   "pygments_lexer": "ipython3",
   "version": "3.13.5"
  }
 },
 "nbformat": 4,
 "nbformat_minor": 5
}
