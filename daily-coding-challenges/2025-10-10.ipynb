{
 "cells": [
  {
   "cell_type": "markdown",
   "id": "c3217e4a",
   "metadata": {},
   "source": [
    "https://www.freecodecamp.org/learn/daily-coding-challenge/2025-10-10"
   ]
  },
  {
   "cell_type": "markdown",
   "id": "20a2a76e",
   "metadata": {},
   "source": [
    "Space Week Day 7: Launch Fuel\n",
    "For the final day of Space Week, you will be given the mass in kilograms (kg) of a payload you want to send to orbit. Determine the amount of fuel needed to send your payload to orbit using the following rules:\n",
    "\n",
    "Rockets require 1 kg of fuel per 5 kg of mass they must lift.\n",
    "Fuel itself has mass. So when you add fuel, the mass to lift goes up, which requires more fuel, which increases the mass, and so on.\n",
    "To calculate the total fuel needed: start with the payload mass, calculate the fuel needed for that, add that fuel to the total mass, and calculate again. Repeat this process until the additional fuel required is less than 1 kg, then stop.\n",
    "Ignore the mass of the rocket itself. Only compute fuel needed to lift the payload and its own fuel.\n",
    "For example, given a payload mass of 50 kg, you would need 10 kg of fuel to lift it (payload / 5), which increases the total mass to 60 kg, which needs 12 kg to lift (2 additional kg), which increases the total mass to 62 kg, which needs 12.4 kg to lift - 0.4 additional kg - which is less 1 additional kg, so we stop here. The total mass to lift is 62.4 kg, 50 of which is the initial payload and 12.4 of fuel.\n",
    "\n",
    "Return the amount of fuel needed rounded to one decimal place."
   ]
  },
  {
   "cell_type": "code",
   "execution_count": 1,
   "id": "e7c5b6da",
   "metadata": {},
   "outputs": [],
   "source": [
    "# initial attempt\n",
    "# i tried at first to combine the rounding with the recursion, but that led to inaccuracies\n",
    "# so i separated the rounding to only happen at the end of the calculation\n",
    "\n",
    "# i also tried to calculate the total mass and then calculate the difference between new and old fuel \n",
    "# but it was easier to find the fuel needed for each step and then sum instead\n",
    "def launch_fuel(payload):\n",
    "    return round(calculate(payload), 1)\n",
    "\n",
    "def calculate(mass):\n",
    "        fuel = mass / 5\n",
    "        if fuel < 1:\n",
    "            return fuel\n",
    "        return fuel + calculate(fuel)"
   ]
  },
  {
   "cell_type": "code",
   "execution_count": 2,
   "id": "98223318",
   "metadata": {},
   "outputs": [],
   "source": [
    "# this would not work for some values since we are rounding during each recursion step, hence why we either use an iterative approach or round only at the end\n",
    "# def launch_fuel(payload): \n",
    "#     fuel = payload/5 \n",
    "#     print(fuel) \n",
    "#     if fuel < 1: \n",
    "#         return fuel \n",
    "#     total = fuel + launch_fuel(fuel) \n",
    "#     return round(total,1)"
   ]
  },
  {
   "cell_type": "code",
   "execution_count": 3,
   "id": "ba1c6e2d",
   "metadata": {},
   "outputs": [],
   "source": [
    "# iterative approach\n",
    "# def launch_fuel(payload):\n",
    "#     total_fuel = 0\n",
    "#     fuel = payload / 5\n",
    "#     while fuel >= 1:\n",
    "#         total_fuel += fuel\n",
    "#         fuel = fuel / 5  \n",
    "#     total_fuel += fuel  # add the final fuel\n",
    "#     return round(total_fuel, 1)\n"
   ]
  },
  {
   "cell_type": "code",
   "execution_count": 4,
   "id": "afbc59b0",
   "metadata": {},
   "outputs": [
    {
     "data": {
      "text/plain": [
       "12.4"
      ]
     },
     "execution_count": 4,
     "metadata": {},
     "output_type": "execute_result"
    }
   ],
   "source": [
    "launch_fuel(50) # 12.4"
   ]
  },
  {
   "cell_type": "code",
   "execution_count": 5,
   "id": "629dce9a",
   "metadata": {},
   "outputs": [
    {
     "data": {
      "text/plain": [
       "124.8"
      ]
     },
     "execution_count": 5,
     "metadata": {},
     "output_type": "execute_result"
    }
   ],
   "source": [
    "launch_fuel(500) # 124.8"
   ]
  },
  {
   "cell_type": "code",
   "execution_count": 6,
   "id": "eab531ce",
   "metadata": {},
   "outputs": [
    {
     "data": {
      "text/plain": [
       "60.7"
      ]
     },
     "execution_count": 6,
     "metadata": {},
     "output_type": "execute_result"
    }
   ],
   "source": [
    "launch_fuel(243) # 60.7"
   ]
  },
  {
   "cell_type": "code",
   "execution_count": 7,
   "id": "b3313ebe",
   "metadata": {},
   "outputs": [
    {
     "data": {
      "text/plain": [
       "2749.8"
      ]
     },
     "execution_count": 7,
     "metadata": {},
     "output_type": "execute_result"
    }
   ],
   "source": [
    "launch_fuel(11000) # 2749.8"
   ]
  },
  {
   "cell_type": "code",
   "execution_count": 8,
   "id": "82f33277",
   "metadata": {},
   "outputs": [
    {
     "data": {
      "text/plain": [
       "1553.4"
      ]
     },
     "execution_count": 8,
     "metadata": {},
     "output_type": "execute_result"
    }
   ],
   "source": [
    "launch_fuel(6214) # 1553.4"
   ]
  }
 ],
 "metadata": {
  "kernelspec": {
   "display_name": "base",
   "language": "python",
   "name": "python3"
  },
  "language_info": {
   "codemirror_mode": {
    "name": "ipython",
    "version": 3
   },
   "file_extension": ".py",
   "mimetype": "text/x-python",
   "name": "python",
   "nbconvert_exporter": "python",
   "pygments_lexer": "ipython3",
   "version": "3.13.5"
  }
 },
 "nbformat": 4,
 "nbformat_minor": 5
}
