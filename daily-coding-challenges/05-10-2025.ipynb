{
 "cells": [
  {
   "cell_type": "markdown",
   "id": "fedc4802",
   "metadata": {},
   "source": [
    "Space Week Day 2: Exoplanet Search\n",
    "For the second day of Space Week, you are given a string where each character represents the luminosity reading of a star. Determine if the readings have detected an exoplanet using the transit method. The transit method is when a planet passes in front of a star, reducing its observed luminosity.\n",
    "\n",
    "Luminosity readings only comprise of characters 0-9 and A-Z where each reading corresponds to the following numerical values:\n",
    "Characters 0-9 correspond to luminosity levels 0-9.\n",
    "Characters A-Z correspond to luminosity levels 10-35.\n",
    "A star is considered to have an exoplanet if any single reading is less than or equal to 80% of the average of all readings. For example, if the average luminosity of a star is 10, it would be considered to have a exoplanet if any single reading is 8 or less."
   ]
  },
  {
   "cell_type": "code",
   "execution_count": 1,
   "id": "4ec9db2e",
   "metadata": {},
   "outputs": [],
   "source": [
    "#initial attempt\n",
    "def has_exoplanet(readings):\n",
    "    alphabet_mapping = dict(\n",
    "        zip([chr(i) for i in range(65, 91)],list(range(10,36))))\n",
    "    luminosity_readings = []\n",
    "\n",
    "    for character in readings:\n",
    "        if character in alphabet_mapping.keys():\n",
    "            luminosity_readings.append(int(alphabet_mapping[character]))\n",
    "        else:\n",
    "            luminosity_readings.append(int(character))\n",
    "\n",
    "    mean = sum(luminosity_readings)/len(luminosity_readings) \n",
    "\n",
    "    for n in luminosity_readings:\n",
    "        if n <= 0.8*mean:\n",
    "            return True\n",
    "    \n",
    "    return False"
   ]
  },
  {
   "cell_type": "code",
   "execution_count": 2,
   "id": "55f06779",
   "metadata": {},
   "outputs": [
    {
     "data": {
      "text/plain": [
       "False"
      ]
     },
     "execution_count": 2,
     "metadata": {},
     "output_type": "execute_result"
    }
   ],
   "source": [
    "has_exoplanet(\"665544554\") # False"
   ]
  },
  {
   "cell_type": "code",
   "execution_count": 3,
   "id": "e78d43c2",
   "metadata": {},
   "outputs": [
    {
     "data": {
      "text/plain": [
       "True"
      ]
     },
     "execution_count": 3,
     "metadata": {},
     "output_type": "execute_result"
    }
   ],
   "source": [
    "has_exoplanet(\"FGFFCFFGG\") # True"
   ]
  },
  {
   "cell_type": "code",
   "execution_count": 4,
   "id": "4ca0bac8",
   "metadata": {},
   "outputs": [
    {
     "data": {
      "text/plain": [
       "False"
      ]
     },
     "execution_count": 4,
     "metadata": {},
     "output_type": "execute_result"
    }
   ],
   "source": [
    "has_exoplanet(\"MONOPLONOMONPLNOMPNOMP\") # False"
   ]
  },
  {
   "cell_type": "code",
   "execution_count": 5,
   "id": "31cd4c32",
   "metadata": {},
   "outputs": [
    {
     "data": {
      "text/plain": [
       "True"
      ]
     },
     "execution_count": 5,
     "metadata": {},
     "output_type": "execute_result"
    }
   ],
   "source": [
    "has_exoplanet(\"FREECODECAMP\") # True"
   ]
  },
  {
   "cell_type": "code",
   "execution_count": 6,
   "id": "01b8086c",
   "metadata": {},
   "outputs": [
    {
     "data": {
      "text/plain": [
       "False"
      ]
     },
     "execution_count": 6,
     "metadata": {},
     "output_type": "execute_result"
    }
   ],
   "source": [
    "has_exoplanet(\"9AB98AB9BC98A\") # False"
   ]
  },
  {
   "cell_type": "code",
   "execution_count": 7,
   "id": "05aea0cf",
   "metadata": {},
   "outputs": [
    {
     "data": {
      "text/plain": [
       "True"
      ]
     },
     "execution_count": 7,
     "metadata": {},
     "output_type": "execute_result"
    }
   ],
   "source": [
    "has_exoplanet(\"ZXXWYZXYWYXZEGZXWYZXYGEE\") # True"
   ]
  }
 ],
 "metadata": {
  "kernelspec": {
   "display_name": "base",
   "language": "python",
   "name": "python3"
  },
  "language_info": {
   "codemirror_mode": {
    "name": "ipython",
    "version": 3
   },
   "file_extension": ".py",
   "mimetype": "text/x-python",
   "name": "python",
   "nbconvert_exporter": "python",
   "pygments_lexer": "ipython3",
   "version": "3.13.5"
  }
 },
 "nbformat": 4,
 "nbformat_minor": 5
}
