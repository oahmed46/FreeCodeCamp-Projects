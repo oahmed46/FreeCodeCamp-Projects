{
 "cells": [
  {
   "cell_type": "markdown",
   "id": "bd5d09a2",
   "metadata": {},
   "source": [
    "https://www.freecodecamp.org/learn/daily-coding-challenge/2025-10-25"
   ]
  },
  {
   "cell_type": "markdown",
   "id": "d43fa5f9",
   "metadata": {},
   "source": [
    "Complementary DNA\n",
    "Given a string representing a DNA sequence, return its complementary strand using the following rules:\n",
    "\n",
    "DNA consists of the letters \"A\", \"C\", \"G\", and \"T\".\n",
    "The letters \"A\" and \"T\" complement each other.\n",
    "The letters \"C\" and \"G\" complement each other.\n",
    "For example, given \"ACGT\", return \"TGCA\"."
   ]
  },
  {
   "cell_type": "code",
   "execution_count": 1,
   "id": "21b2d2a5",
   "metadata": {},
   "outputs": [],
   "source": [
    "def complementary_dna(strand):\n",
    "    complement = {\"A\":\"T\",\"T\":\"A\",\"C\":\"G\",\"G\":\"C\"}\n",
    "    complementary_strand = \"\"\n",
    "    for char in strand:\n",
    "        complementary_strand += complement[char]\n",
    "\n",
    "    return complementary_strand"
   ]
  },
  {
   "cell_type": "code",
   "execution_count": 2,
   "id": "5289a8b4",
   "metadata": {},
   "outputs": [
    {
     "data": {
      "text/plain": [
       "'TGCA'"
      ]
     },
     "execution_count": 2,
     "metadata": {},
     "output_type": "execute_result"
    }
   ],
   "source": [
    "complementary_dna(\"ACGT\") # \"TGCA\""
   ]
  },
  {
   "cell_type": "code",
   "execution_count": 3,
   "id": "f5307c96",
   "metadata": {},
   "outputs": [
    {
     "data": {
      "text/plain": [
       "'TACGCATGCAATCG'"
      ]
     },
     "execution_count": 3,
     "metadata": {},
     "output_type": "execute_result"
    }
   ],
   "source": [
    "complementary_dna(\"ATGCGTACGTTAGC\") # \"TACGCATGCAATCG\""
   ]
  },
  {
   "cell_type": "code",
   "execution_count": 4,
   "id": "8608afc4",
   "metadata": {},
   "outputs": [
    {
     "data": {
      "text/plain": [
       "'CCGAATGCTAGCTTC'"
      ]
     },
     "execution_count": 4,
     "metadata": {},
     "output_type": "execute_result"
    }
   ],
   "source": [
    "complementary_dna(\"GGCTTACGATCGAAG\") # \"CCGAATGCTAGCTTC\""
   ]
  },
  {
   "cell_type": "code",
   "execution_count": 5,
   "id": "f9d60003",
   "metadata": {},
   "outputs": [
    {
     "data": {
      "text/plain": [
       "'CTAGATCGATCCGATCGATC'"
      ]
     },
     "execution_count": 5,
     "metadata": {},
     "output_type": "execute_result"
    }
   ],
   "source": [
    "complementary_dna(\"GATCTAGCTAGGCTAGCTAG\") # \"CTAGATCGATCCGATCGATC\""
   ]
  }
 ],
 "metadata": {
  "kernelspec": {
   "display_name": "base",
   "language": "python",
   "name": "python3"
  },
  "language_info": {
   "codemirror_mode": {
    "name": "ipython",
    "version": 3
   },
   "file_extension": ".py",
   "mimetype": "text/x-python",
   "name": "python",
   "nbconvert_exporter": "python",
   "pygments_lexer": "ipython3",
   "version": "3.13.5"
  }
 },
 "nbformat": 4,
 "nbformat_minor": 5
}
