{
 "cells": [
  {
   "cell_type": "markdown",
   "id": "e93334ce",
   "metadata": {},
   "source": [
    "https://www.freecodecamp.org/learn/daily-coding-challenge/2025-10-12"
   ]
  },
  {
   "cell_type": "markdown",
   "id": "9894c8f5",
   "metadata": {},
   "source": [
    "Battle of Words\n",
    "Given two sentences representing your team and an opposing team, where each word from your team battles the corresponding word from the opposing team, determine which team wins using the following rules:\n",
    "\n",
    "The given sentences will always contain the same number of words.\n",
    "Words are separated by a single space and will only contain letters.\n",
    "The value of each word is the sum of its letters.\n",
    "Letters a to z correspond to the values 1 through 26. For example, a is 1, and z is 26.\n",
    "A capital letter doubles the value of the letter. For example, A is 2, and Z is 52.\n",
    "Words battle in order: the first word of your team battles the first word of the opposing team, and so on.\n",
    "A word wins if its value is greater than the opposing word's value.\n",
    "The team with more winning words is the winner.\n",
    "Return \"We win\" if your team is the winner, \"We lose\" if your team loses, and \"Draw\" if both teams have the same number of wins."
   ]
  },
  {
   "cell_type": "code",
   "execution_count": 1,
   "id": "08e802f4",
   "metadata": {},
   "outputs": [],
   "source": [
    "def battle(our_team, opponent):\n",
    "\n",
    "    our_team = helper(our_team)\n",
    "    opponent = helper(opponent)\n",
    "\n",
    "    our_team_score = 0\n",
    "    opponent_score = 0\n",
    "\n",
    "    for i in range(len(our_team)):\n",
    "        if our_team[i] > opponent[i]:\n",
    "            our_team_score += 1\n",
    "        elif our_team[i] < opponent[i]:\n",
    "            opponent_score += 1\n",
    "        else:\n",
    "            our_team_score += 1\n",
    "            opponent_score += 1\n",
    "\n",
    "    if our_team_score > opponent_score:\n",
    "        return \"We win\"\n",
    "    elif our_team_score < opponent_score:\n",
    "        return \"We lose\"\n",
    "    else:\n",
    "        return \"Draw\"\n",
    "\n",
    "def helper(team):\n",
    "    values = []\n",
    "    for x in team.split(): #[\"hello\" \"world\"]\n",
    "        total = 0\n",
    "        for item in x: # \"hello\"\n",
    "            value = ord(item.lower()) - ord('a') + 1\n",
    "            if item.isupper():\n",
    "                value *= 2\n",
    "            total += value\n",
    "        values.append(int(total))\n",
    "\n",
    "    return values"
   ]
  },
  {
   "cell_type": "code",
   "execution_count": 2,
   "id": "189f91e6",
   "metadata": {},
   "outputs": [
    {
     "data": {
      "text/plain": [
       "'We win'"
      ]
     },
     "execution_count": 2,
     "metadata": {},
     "output_type": "execute_result"
    }
   ],
   "source": [
    "battle(\"hello world\", \"hello word\") # \"We win\""
   ]
  },
  {
   "cell_type": "code",
   "execution_count": 3,
   "id": "e0ff1e63",
   "metadata": {},
   "outputs": [
    {
     "data": {
      "text/plain": [
       "'We win'"
      ]
     },
     "execution_count": 3,
     "metadata": {},
     "output_type": "execute_result"
    }
   ],
   "source": [
    "battle(\"Hello world\", \"hello world\") # \"We win\""
   ]
  },
  {
   "cell_type": "code",
   "execution_count": 4,
   "id": "684a411d",
   "metadata": {},
   "outputs": [
    {
     "data": {
      "text/plain": [
       "'We lose'"
      ]
     },
     "execution_count": 4,
     "metadata": {},
     "output_type": "execute_result"
    }
   ],
   "source": [
    "battle(\"lorem ipsum\", \"kitty ipsum\") # \"We lose\""
   ]
  },
  {
   "cell_type": "code",
   "execution_count": 5,
   "id": "315f461e",
   "metadata": {},
   "outputs": [
    {
     "data": {
      "text/plain": [
       "'Draw'"
      ]
     },
     "execution_count": 5,
     "metadata": {},
     "output_type": "execute_result"
    }
   ],
   "source": [
    "battle(\"hello world\", \"world hello\") # \"Draw\""
   ]
  },
  {
   "cell_type": "code",
   "execution_count": 6,
   "id": "ecf24b6b",
   "metadata": {},
   "outputs": [
    {
     "data": {
      "text/plain": [
       "'We win'"
      ]
     },
     "execution_count": 6,
     "metadata": {},
     "output_type": "execute_result"
    }
   ],
   "source": [
    "battle(\"git checkout\", \"git switch\") # \"We win\""
   ]
  },
  {
   "cell_type": "code",
   "execution_count": 7,
   "id": "af77cddb",
   "metadata": {},
   "outputs": [
    {
     "data": {
      "text/plain": [
       "'We lose'"
      ]
     },
     "execution_count": 7,
     "metadata": {},
     "output_type": "execute_result"
    }
   ],
   "source": [
    "battle(\"Cheeseburger with fries\", \"Cheeseburger with Fries\") # \"We lose\""
   ]
  },
  {
   "cell_type": "code",
   "execution_count": 8,
   "id": "97f341f4",
   "metadata": {},
   "outputs": [
    {
     "data": {
      "text/plain": [
       "'Draw'"
      ]
     },
     "execution_count": 8,
     "metadata": {},
     "output_type": "execute_result"
    }
   ],
   "source": [
    "battle(\"We must never surrender\", \"Our team must win\") # \"Draw\""
   ]
  }
 ],
 "metadata": {
  "kernelspec": {
   "display_name": "base",
   "language": "python",
   "name": "python3"
  },
  "language_info": {
   "codemirror_mode": {
    "name": "ipython",
    "version": 3
   },
   "file_extension": ".py",
   "mimetype": "text/x-python",
   "name": "python",
   "nbconvert_exporter": "python",
   "pygments_lexer": "ipython3",
   "version": "3.13.5"
  }
 },
 "nbformat": 4,
 "nbformat_minor": 5
}
