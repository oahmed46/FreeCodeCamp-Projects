{
 "cells": [
  {
   "cell_type": "markdown",
   "id": "6980696b",
   "metadata": {},
   "source": [
    "Space Week Day 4: Landing Spot\n",
    "In day four of Space Week, you are given a matrix of numbers (an array of arrays), representing potential landing spots for your rover. Find the safest landing spot based on the following rules:\n",
    "\n",
    "Each spot in the matrix will contain a number from 0-9, inclusive.\n",
    "Any 0 represents a potential landing spot.\n",
    "Any number other than 0 is too dangerous to land. The higher the number, the more dangerous.\n",
    "The safest spot is defined as the 0 cell whose surrounding cells (up to 4 neighbors, ignore diagonals) have the lowest total danger.\n",
    "Ignore out-of-bounds neighbors (corners and edges just have fewer neighbors).\n",
    "Return the indices of the safest landing spot. There will always only be one safest spot.\n",
    "For instance, given:\n",
    "\n",
    "[\n",
    "  [1, 0],\n",
    "  [2, 0]\n",
    "]\n",
    "Return [0, 1], the indices for the 0 in the first array."
   ]
  },
  {
   "cell_type": "code",
   "execution_count": 52,
   "id": "5a7e05f9",
   "metadata": {},
   "outputs": [],
   "source": [
    "# initial attempt\n",
    "# def find_landing_spot(matrix):\n",
    "#     best = [0,0]\n",
    "#     lowest_danger = 999\n",
    "#     for i in range(len(matrix)):\n",
    "#         for j in range(len(matrix[i])):\n",
    "#             if matrix[i][j] == 0:\n",
    "#                 danger = 0\n",
    "#                 if i+1 < len(matrix):\n",
    "#                     danger += matrix[i+1][j]\n",
    "#                 if i-1 >= 0:\n",
    "#                     danger += matrix[i-1][j]\n",
    "#                 if j+1 < len(matrix[i]):\n",
    "#                     danger += matrix[i][j+1]\n",
    "#                 if j-1 >= 0:\n",
    "#                     danger += matrix[i][j-1]\n",
    "#                 if danger < lowest_danger:\n",
    "#                     lowest_danger = danger\n",
    "#                     best = [i,j]\n",
    "\n",
    "#     return best"
   ]
  },
  {
   "cell_type": "code",
   "execution_count": 53,
   "id": "b5fda1ca",
   "metadata": {},
   "outputs": [],
   "source": [
    "# refactored code\n",
    "def find_landing_spot(matrix):\n",
    "    best = None\n",
    "    lowest_danger = float('inf')\n",
    "    rows = len(matrix) \n",
    "    if rows == 0:\n",
    "        return None\n",
    "    neighbors = [(-1,0),(1,0),(0,-1),(0,1)]\n",
    "    for i in range(rows):\n",
    "        cols = len(matrix[i])\n",
    "        for j in range(cols):\n",
    "            if matrix[i][j] == 0:\n",
    "                danger = 0\n",
    "                for x, y in neighbors: \n",
    "                    neighbor_i, neighbor_j = i + x, j + y\n",
    "                    if 0 <= neighbor_i < rows and 0 <= neighbor_j < len(matrix[neighbor_i]):\n",
    "                        danger += matrix[neighbor_i][neighbor_j]\n",
    "                if danger < lowest_danger:\n",
    "                    lowest_danger = danger\n",
    "                    best = [i,j]\n",
    "\n",
    "    return best"
   ]
  },
  {
   "cell_type": "code",
   "execution_count": 54,
   "id": "61271c88",
   "metadata": {},
   "outputs": [
    {
     "data": {
      "text/plain": [
       "[0, 1]"
      ]
     },
     "execution_count": 54,
     "metadata": {},
     "output_type": "execute_result"
    }
   ],
   "source": [
    "find_landing_spot([[1, 0], [2, 0]]) # [0, 1]"
   ]
  },
  {
   "cell_type": "code",
   "execution_count": 55,
   "id": "e1716ced",
   "metadata": {},
   "outputs": [
    {
     "data": {
      "text/plain": [
       "[1, 1]"
      ]
     },
     "execution_count": 55,
     "metadata": {},
     "output_type": "execute_result"
    }
   ],
   "source": [
    "find_landing_spot([[9, 0, 3], [7, 0, 4], [8, 0, 5]]) # [1, 1]"
   ]
  },
  {
   "cell_type": "code",
   "execution_count": 56,
   "id": "16d42ce7",
   "metadata": {},
   "outputs": [
    {
     "data": {
      "text/plain": [
       "[2, 2]"
      ]
     },
     "execution_count": 56,
     "metadata": {},
     "output_type": "execute_result"
    }
   ],
   "source": [
    "find_landing_spot([[1, 2, 1], [0, 0, 2], [3, 0, 0]]) # [2, 2]"
   ]
  },
  {
   "cell_type": "code",
   "execution_count": 57,
   "id": "a6876e3b",
   "metadata": {},
   "outputs": [
    {
     "data": {
      "text/plain": [
       "[2, 1]"
      ]
     },
     "execution_count": 57,
     "metadata": {},
     "output_type": "execute_result"
    }
   ],
   "source": [
    "find_landing_spot([[9, 6, 0, 8], [7, 1, 1, 0], [3, 0, 3, 9], [8, 6, 0, 9]]) # [2, 1]"
   ]
  }
 ],
 "metadata": {
  "kernelspec": {
   "display_name": "base",
   "language": "python",
   "name": "python3"
  },
  "language_info": {
   "codemirror_mode": {
    "name": "ipython",
    "version": 3
   },
   "file_extension": ".py",
   "mimetype": "text/x-python",
   "name": "python",
   "nbconvert_exporter": "python",
   "pygments_lexer": "ipython3",
   "version": "3.13.5"
  }
 },
 "nbformat": 4,
 "nbformat_minor": 5
}
