{
 "cells": [
  {
   "cell_type": "markdown",
   "id": "113679d8",
   "metadata": {},
   "source": [
    "https://www.freecodecamp.org/learn/daily-coding-challenge/2025-10-14"
   ]
  },
  {
   "cell_type": "markdown",
   "id": "37e67266",
   "metadata": {},
   "source": [
    "String Count\n",
    "Given two strings, determine how many times the second string appears in the first.\n",
    "\n",
    "The pattern string can overlap in the first string. For example, \"aaa\" contains \"aa\" twice. The first two a's and the second two."
   ]
  },
  {
   "cell_type": "code",
   "execution_count": 1,
   "id": "1856d30f",
   "metadata": {},
   "outputs": [],
   "source": [
    "def count(text, parameter):\n",
    "    str_count = 0\n",
    "    for i in range(0, len(text) - len(parameter) + 1):\n",
    "        if text[i: i + len(parameter)] == parameter:\n",
    "            str_count += 1\n",
    "    return str_count"
   ]
  },
  {
   "cell_type": "code",
   "execution_count": 2,
   "id": "ce1e9b37",
   "metadata": {},
   "outputs": [
    {
     "data": {
      "text/plain": [
       "1"
      ]
     },
     "execution_count": 2,
     "metadata": {},
     "output_type": "execute_result"
    }
   ],
   "source": [
    "count('abcdefg', 'def') # 1"
   ]
  },
  {
   "cell_type": "code",
   "execution_count": 3,
   "id": "9c6cdccc",
   "metadata": {},
   "outputs": [
    {
     "data": {
      "text/plain": [
       "0"
      ]
     },
     "execution_count": 3,
     "metadata": {},
     "output_type": "execute_result"
    }
   ],
   "source": [
    "count('hello', 'world') # 0"
   ]
  },
  {
   "cell_type": "code",
   "execution_count": 4,
   "id": "b506b808",
   "metadata": {},
   "outputs": [
    {
     "data": {
      "text/plain": [
       "2"
      ]
     },
     "execution_count": 4,
     "metadata": {},
     "output_type": "execute_result"
    }
   ],
   "source": [
    "count('mississippi', 'iss') # 2"
   ]
  },
  {
   "cell_type": "code",
   "execution_count": 5,
   "id": "ae455172",
   "metadata": {},
   "outputs": [
    {
     "data": {
      "text/plain": [
       "3"
      ]
     },
     "execution_count": 5,
     "metadata": {},
     "output_type": "execute_result"
    }
   ],
   "source": [
    "count('she sells seashells by the seashore', 'sh') # 3"
   ]
  },
  {
   "cell_type": "code",
   "execution_count": 6,
   "id": "593aee88",
   "metadata": {},
   "outputs": [
    {
     "data": {
      "text/plain": [
       "10"
      ]
     },
     "execution_count": 6,
     "metadata": {},
     "output_type": "execute_result"
    }
   ],
   "source": [
    "count('101010101010101010101', '101') # 10"
   ]
  }
 ],
 "metadata": {
  "kernelspec": {
   "display_name": "base",
   "language": "python",
   "name": "python3"
  },
  "language_info": {
   "codemirror_mode": {
    "name": "ipython",
    "version": 3
   },
   "file_extension": ".py",
   "mimetype": "text/x-python",
   "name": "python",
   "nbconvert_exporter": "python",
   "pygments_lexer": "ipython3",
   "version": "3.13.5"
  }
 },
 "nbformat": 4,
 "nbformat_minor": 5
}
