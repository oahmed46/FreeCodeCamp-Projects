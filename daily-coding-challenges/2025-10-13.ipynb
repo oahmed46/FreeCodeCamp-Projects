{
 "cells": [
  {
   "cell_type": "markdown",
   "id": "e5a12384",
   "metadata": {},
   "source": [
    "https://www.freecodecamp.org/learn/daily-coding-challenge/2025-10-13"
   ]
  },
  {
   "cell_type": "markdown",
   "id": "570d6797",
   "metadata": {},
   "source": [
    "24 to 12\n",
    "Given a string representing a time of the day in the 24-hour format of \"HHMM\", return the time in its equivalent 12-hour format of \"H:MM AM\" or \"H:MM PM\".\n",
    "\n",
    "The given input will always be a four-digit string in 24-hour time format, from \"0000\" to \"2359\"."
   ]
  },
  {
   "cell_type": "code",
   "execution_count": 1,
   "id": "cf68cd76",
   "metadata": {},
   "outputs": [],
   "source": [
    "def to_12(time):\n",
    "    hour = int(time[:2])\n",
    "    minute = time[2:]\n",
    "\n",
    "    if hour >= 12:\n",
    "        hour -= 12\n",
    "        format = \"PM\"\n",
    "    elif hour == 0:\n",
    "        hour = 12\n",
    "        format = \"AM\"\n",
    "    else:\n",
    "        format = \"AM\"\n",
    "\n",
    "    return f\"{hour}:{minute} {format}\""
   ]
  },
  {
   "cell_type": "code",
   "execution_count": 2,
   "id": "1e94e824",
   "metadata": {},
   "outputs": [
    {
     "data": {
      "text/plain": [
       "'11:24 AM'"
      ]
     },
     "execution_count": 2,
     "metadata": {},
     "output_type": "execute_result"
    }
   ],
   "source": [
    "to_12(\"1124\") # \"11:24 AM\""
   ]
  },
  {
   "cell_type": "code",
   "execution_count": 3,
   "id": "140fad5a",
   "metadata": {},
   "outputs": [
    {
     "data": {
      "text/plain": [
       "'9:00 AM'"
      ]
     },
     "execution_count": 3,
     "metadata": {},
     "output_type": "execute_result"
    }
   ],
   "source": [
    "to_12(\"0900\") # \"9:00 AM\""
   ]
  },
  {
   "cell_type": "code",
   "execution_count": 4,
   "id": "c8c7e310",
   "metadata": {},
   "outputs": [
    {
     "data": {
      "text/plain": [
       "'2:55 PM'"
      ]
     },
     "execution_count": 4,
     "metadata": {},
     "output_type": "execute_result"
    }
   ],
   "source": [
    "\n",
    "to_12(\"1455\") # \"2:55 PM\""
   ]
  },
  {
   "cell_type": "code",
   "execution_count": 5,
   "id": "6e79fc16",
   "metadata": {},
   "outputs": [
    {
     "data": {
      "text/plain": [
       "'11:46 PM'"
      ]
     },
     "execution_count": 5,
     "metadata": {},
     "output_type": "execute_result"
    }
   ],
   "source": [
    "\n",
    "to_12(\"2346\") # \"11:46 PM\"\n"
   ]
  },
  {
   "cell_type": "code",
   "execution_count": 6,
   "id": "41fdc1c6",
   "metadata": {},
   "outputs": [
    {
     "data": {
      "text/plain": [
       "'12:30 AM'"
      ]
     },
     "execution_count": 6,
     "metadata": {},
     "output_type": "execute_result"
    }
   ],
   "source": [
    "to_12(\"0030\") # \"12:30 AM\""
   ]
  }
 ],
 "metadata": {
  "kernelspec": {
   "display_name": "base",
   "language": "python",
   "name": "python3"
  },
  "language_info": {
   "codemirror_mode": {
    "name": "ipython",
    "version": 3
   },
   "file_extension": ".py",
   "mimetype": "text/x-python",
   "name": "python",
   "nbconvert_exporter": "python",
   "pygments_lexer": "ipython3",
   "version": "3.13.5"
  }
 },
 "nbformat": 4,
 "nbformat_minor": 5
}
