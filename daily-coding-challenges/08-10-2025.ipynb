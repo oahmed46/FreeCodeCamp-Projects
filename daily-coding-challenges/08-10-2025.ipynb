{
 "cells": [
  {
   "cell_type": "markdown",
   "id": "ce9325ce",
   "metadata": {},
   "source": [
    "https://www.freecodecamp.org/learn/daily-coding-challenge/2025-10-08"
   ]
  },
  {
   "cell_type": "markdown",
   "id": "e71e8d3a",
   "metadata": {},
   "source": [
    "Space Week Day 5: Goldilocks Zone\n",
    "For the fifth day of Space Week, you will calculate the \"Goldilocks zone\" of a star - the region around a star where conditions are \"just right\" for liquid water to exist.\n",
    "\n",
    "Given the mass of a star, return an array with the start and end distances of its Goldilocks Zone in Astronomical Units.\n",
    "\n",
    "To calculate the Goldilocks Zone:\n",
    "\n",
    "Find the luminosity of the star by raising its mass to the power of 3.5.\n",
    "The start of the zone is 0.95 times the square root of its luminosity.\n",
    "The end of the zone is 1.37 times the square root of its luminosity.\n",
    "Return the distances rounded to two decimal places.\n",
    "For example, given 1 as a mass, return [0.95, 1.37]."
   ]
  },
  {
   "cell_type": "code",
   "execution_count": 1,
   "id": "7a99a2e8",
   "metadata": {},
   "outputs": [],
   "source": [
    "def goldilocks_zone(mass):\n",
    "    luminosity = mass**3.5\n",
    "    sqrt_luminosity = luminosity**0.5\n",
    "    return [round(0.95*sqrt_luminosity,2),round(1.37*sqrt_luminosity,2)]"
   ]
  },
  {
   "cell_type": "code",
   "execution_count": 2,
   "id": "d68758ae",
   "metadata": {},
   "outputs": [
    {
     "data": {
      "text/plain": [
       "[0.95, 1.37]"
      ]
     },
     "execution_count": 2,
     "metadata": {},
     "output_type": "execute_result"
    }
   ],
   "source": [
    "goldilocks_zone(1) # [095, 137]"
   ]
  },
  {
   "cell_type": "code",
   "execution_count": 3,
   "id": "73988ade",
   "metadata": {},
   "outputs": [
    {
     "data": {
      "text/plain": [
       "[0.28, 0.41]"
      ]
     },
     "execution_count": 3,
     "metadata": {},
     "output_type": "execute_result"
    }
   ],
   "source": [
    "goldilocks_zone(0.5) # [028, 041]"
   ]
  },
  {
   "cell_type": "code",
   "execution_count": 4,
   "id": "3d6f09ec",
   "metadata": {},
   "outputs": [
    {
     "data": {
      "text/plain": [
       "[21.85, 31.51]"
      ]
     },
     "execution_count": 4,
     "metadata": {},
     "output_type": "execute_result"
    }
   ],
   "source": [
    "goldilocks_zone(6) # [2185, 3151]"
   ]
  },
  {
   "cell_type": "code",
   "execution_count": 5,
   "id": "46add22d",
   "metadata": {},
   "outputs": [
    {
     "data": {
      "text/plain": [
       "[527.32, 760.46]"
      ]
     },
     "execution_count": 5,
     "metadata": {},
     "output_type": "execute_result"
    }
   ],
   "source": [
    "goldilocks_zone(37) # [938, 1352]"
   ]
  },
  {
   "cell_type": "code",
   "execution_count": 6,
   "id": "d87b3123",
   "metadata": {},
   "outputs": [
    {
     "data": {
      "text/plain": [
       "[179.69, 259.13]"
      ]
     },
     "execution_count": 6,
     "metadata": {},
     "output_type": "execute_result"
    }
   ],
   "source": [
    "goldilocks_zone(20) # [17969, 25913]"
   ]
  }
 ],
 "metadata": {
  "kernelspec": {
   "display_name": "base",
   "language": "python",
   "name": "python3"
  },
  "language_info": {
   "codemirror_mode": {
    "name": "ipython",
    "version": 3
   },
   "file_extension": ".py",
   "mimetype": "text/x-python",
   "name": "python",
   "nbconvert_exporter": "python",
   "pygments_lexer": "ipython3",
   "version": "3.13.5"
  }
 },
 "nbformat": 4,
 "nbformat_minor": 5
}
